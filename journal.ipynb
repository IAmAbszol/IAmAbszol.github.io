{
 "cells": [
  {
   "cell_type": "markdown",
   "id": "8bfb21a1",
   "metadata": {},
   "source": [
    "# Study Journal for Data & Algorithm Problems.\n",
    "---\n",
    "## Kyle Darling\n",
    "\n",
    "*The following sections and problems all reflect things I've learned while studying algorithms and began grouping certain problems together based on algorithm commonality. This doesn't denote that one algorithm fits all nor one algorithm is the only solution to set problem, these are completely biased views on my journey.*\n",
    "\n",
    "# TODO: TABLE OF CONTENTS"
   ]
  },
  {
   "cell_type": "markdown",
   "id": "5a74687d",
   "metadata": {},
   "source": [
    "## Dynamic Programming\n",
    "\n",
    "One of my most sought after accomplishments has been to be able to tackle any dynamic programming problem that came my way. Hopefully below my explanations to the problems help, I always check my results and compare them to the discussions posted, especially using dynamic programming because the possibilities can almost seem endless. Each question will reflect a solution I enjoyed reading, helped use to solve the problem when stuck, or similar to my solutions.\n",
    "\n",
    "### Algorithm Groups\n",
    "\n",
    "Knapsack O/1 - Coin Change II\n",
    "Keep/Flip - Maximum Alternating Subsequence Sum\n",
    "Kadane's Algorithm - Best Sightseeing Pair\n",
    "\n",
    "### [Coin Change II](https://leetcode.com/problems/coin-change-2/)\n",
    "\n",
    "Tasked with finding the number of unique ways we can form the given the amount, given the set of coins.\n",
    "\n",
    "```\n",
    "Input = [1,2,5]\n",
    "Amount = 5\n",
    "```\n",
    "\n",
    "Instantly one could think of a brute-force like solution as to where we would recursively move down a tree, selecting either the same coin or a new coin each time.\n",
    "\n",
    "**For example:**\n",
    "```\n",
    "Input = [1,2]\n",
    "Amount = 2\n",
    "```\n",
    "\n",
    "At first glance the number of possibilities is 2. We're able to choose from either (1,1) or (2) ways. Next we could begin the recursive approach by moving down a tree starting at the highest number.\n",
    "\n",
    "**Top-Down Approach**\n",
    "\n",
    "![Recursion-Image](./docs/dynamicprogramming/coin_change_recursive.png)\n",
    "\n",
    "> The code for this is quite simple."
   ]
  },
  {
   "cell_type": "code",
   "execution_count": 14,
   "id": "bce64d39",
   "metadata": {},
   "outputs": [
    {
     "name": "stdout",
     "output_type": "stream",
     "text": [
      "Number of Unique Solutions 2.\n"
     ]
    }
   ],
   "source": [
    "from functools import lru_cache\n",
    "\n",
    "coins, amount = [1,2], 3\n",
    "# i = index, a = amount\n",
    "\n",
    "@lru_cache\n",
    "def helper(i, a):\n",
    "    if i < 0:\n",
    "        return 0\n",
    "    if a < 0:\n",
    "        return 0\n",
    "    if a == 0:\n",
    "        return 1\n",
    "    return helper(i - 1, a) + helper(i, a - coins[i])\n",
    "print(f'Number of Unique Solutions {helper(len(coins) - 1, amount)}.')"
   ]
  },
  {
   "cell_type": "markdown",
   "id": "d72b0ccb",
   "metadata": {},
   "source": [
    "**Optimizing** \n",
    "\n",
    "The above solution using recursion + memoization is quite eloquent though we can reduce the time complexity down by introducing space into the mix, on other words an iterative solution.\n",
    "\n",
    "**Bottom-Up Approach**\n",
    "\n",
    "![Bottom-Up-Image](./docs/dynamicprogramming/coin_change_bottom_up.png)\n",
    "\n",
    "> I decided to go ahead and optimize my code on space as well!\n",
    "\n",
    "The current space requirement is O(a*n) where a is amount and n is number of coins. We can reduce this to O(a) by noticing that we only ever use one entire line, only referencing the top line to retrieve our previous result. Thus we can continually overwrite the **previous** result with our current which uses **previous**."
   ]
  },
  {
   "cell_type": "code",
   "execution_count": 15,
   "id": "cd1a2024",
   "metadata": {},
   "outputs": [
    {
     "name": "stdout",
     "output_type": "stream",
     "text": [
      "Number of Unique Solutions 2.\n"
     ]
    }
   ],
   "source": [
    "from typing import List\n",
    "\n",
    "def change(amount: int, coins: List[int]) -> int:\n",
    "    dp = [0 for _ in range(amount + 1)]\n",
    "    dp[0] = 1\n",
    "    for i in coins:\n",
    "        for j in range(1, amount + 1):\n",
    "            if i <= j:\n",
    "                dp[j] += dp[j - i]\n",
    "    return dp[-1]\n",
    "print(f'Number of Unique Solutions {change(amount, coins)}.')"
   ]
  },
  {
   "cell_type": "markdown",
   "id": "6228fe10",
   "metadata": {},
   "source": [
    "### [Maximum Alternating Subsequence Sum](https://leetcode.com/problems/maximum-alternating-subsequence-sum/)\n",
    "\n",
    "This problem and one I had done afterwards kept getting me at the \"subsequence\" vs \"subarray\". \n",
    "\n",
    "**Subarray:** Is a contiguous, increasing in index partition of the main array.\n",
    "**Subsequence:** Is a non-contiguous, increasing in index partition of the main array.\n",
    "\n",
    "The main difference between the two is that the sum doesn't have to be contiguous but rather increasing.\n",
    "[This page should help clear any confusion](https://medium.com/javarevisited/subarray-vs-subsequence-do-you-know-the-difference-3de0a2c2df52)\n",
    "\n",
    "Now onto the problem!\n",
    "\n",
    "We have to come up with a solution where the subsequence is maximized.\n",
    "\n",
    "**Mistakes Made**\n",
    "\n",
    "When I first tackled this problem I actually devised a way using O(n^2) time and space using Dynamic Programming to compute this with a contiguous subarray, not a subsequence, whoops!\n",
    "\n",
    "Even with these kinds of problems we have to take into account that **Kadane's Algorithm** and others exist that handle maximizing our array/list.\n",
    "\n",
    "**Rationalizing The Problem**\n",
    "\n",
    "After failing epicly I took a step back and took what I had came up with recently. In the first attempt I had broken down indices *i* to *j* where i and j represent the start and end of the subarray. Inbetween i and j a rolling sum was used where:\n",
    "\n",
    "1. ```if i == j, return nums[i]```\n",
    "2. ```if |i - j| > 1, rolling_sum += nums[j] * (-1 ** j)```\n",
    "\n",
    "In each case the previous row and column was used as a comparison between some maximization. \n",
    "\n",
    "Notice two things:\n",
    "1. We calculate the rolling_sum on the go.\n",
    "2. Any index could be even or odd if selected at the right time, meaning [1,2,3] we could have subsequences [1,2] or [2,3] and because of this 2 is both even and odd.\n",
    "\n",
    "Therefore we can actually do this in O(n) time with O(1) space by computing at a given index it being odd or even.\n",
    "\n",
    "The following below depicts everything needed for the problem and a practice problem from the examples."
   ]
  },
  {
   "cell_type": "markdown",
   "id": "eec2c068",
   "metadata": {},
   "source": [
    "![Maximum_Alternating_Subsequence_Sum_1](./docs/dynamicprogramming/maximum_alternating_subsequence_sum_1.png)\n",
    "![Maximum_Alternating_Subsequence_Sum_2](./docs/dynamicprogramming/maximum_alternating_subsequence_sum_2.png)"
   ]
  },
  {
   "cell_type": "code",
   "execution_count": 16,
   "id": "f9302f7f",
   "metadata": {},
   "outputs": [
    {
     "name": "stdout",
     "output_type": "stream",
     "text": [
      "Maximum value of the subsequence is 10.\n"
     ]
    }
   ],
   "source": [
    "from typing import List\n",
    "\n",
    "def maxAlternatingSum(nums: List[int]) -> int:\n",
    "    odd, even = 0, 0\n",
    "    for num in nums:\n",
    "        odd, even = max(odd, even - num), max(even, odd + num)\n",
    "    return even\n",
    "print(f'Maximum value of the subsequence is {maxAlternatingSum([6,2,1,2,4,5])}.')"
   ]
  },
  {
   "cell_type": "markdown",
   "id": "caa2d9b1",
   "metadata": {},
   "source": [
    "### [Best Sightseeing Pair](https://leetcode.com/problems/best-sightseeing-pair/submissions/)\n",
    "\n",
    "The problem in itself may be easily solved using dynamic programming by constructing a N x N matrix and computing between the ith and jth columns our max value given the constraints listed by the problem itself. Below are some notes I have on the matter:\n",
    "\n",
    "```\n",
    "            8   1   5   2   6\n",
    "        8   8   8   11  11  11\n",
    "        1       1   5   6   9\n",
    "        5           5   6   9\n",
    "        2               2   7\n",
    "        6                   6\n",
    "        \n",
    "        dp[i][j] = max(\n",
    "            dp[i][j - 1],\n",
    "            dp[i + 1][j],\n",
    "            values[i] + values[j] + i - j\n",
    "        )\n",
    "        \n",
    "        Time O(n^2), Space O(n^2)\n",
    "```\n",
    "\n",
    "We can obviously do better by utilizing some knowledge gained by this.\n",
    "\n",
    "First off:\n",
    "1. We don't care about what made up the grand total.\n",
    "2. Everytime we step forward we lose 1 point. If I had 8 and stepped twice I would have 6 + ? where ? is the new number.\n",
    "    \n",
    "Instantly I began thinking of Kadane's Algorithm before even coming to the rationale of (2), thanks to Lee for this validation. This was kind of like the Rubber Duck where speaking to the duck solves your problems, in the real-world this would be an interviewer where they could mention this again for clarity sakes.\n",
    "\n",
    "Therefore we can construct a Kadane Algorithmic approach to finding the maximum by using two variables, thus constant space O(1).\n",
    "- current: Best value thus far, each step we subtract the result by 1 as we're stepping forward.\n",
    "- best: Best value overall.\n",
    "\n",
    "The code for Kadane is really simple and is listed below.\n",
    "\n",
    "Thanks to Lee for the clarity:\n"
   ]
  },
  {
   "cell_type": "code",
   "execution_count": 17,
   "id": "4b36bb07",
   "metadata": {},
   "outputs": [
    {
     "name": "stdout",
     "output_type": "stream",
     "text": [
      "Best Sightseeing Pair Value 11.\n"
     ]
    }
   ],
   "source": [
    "from typing import List\n",
    "\n",
    "def maxScoreSightseeingPair(values: List[int]) -> int:\n",
    "    current, best = float('-inf'), float('-inf')\n",
    "    for value in values:\n",
    "        best = max(best, current + value)\n",
    "        current = max(current, value) - 1\n",
    "    return best\n",
    "print(f'Best Sightseeing Pair Value {maxScoreSightseeingPair([8,1,5,2,6])}.')"
   ]
  },
  {
   "cell_type": "markdown",
   "id": "0483f6de",
   "metadata": {},
   "source": [
    "Thanks to Lee for the clarity: [link](https://leetcode.com/problems/best-sightseeing-pair/discuss/260850/JavaC%2B%2BPython-One-Pass-O(1)-space)\n",
    "\n",
    "```\n",
    "Also we can update cur by max(cur, a). <-- Kadane\n",
    "Note that when we move forward,\n",
    "all sightseeing spot we have seen will be 1 distance further. <-- Modification\n",
    "```\n",
    "\n",
    "### [Longest Common Subsequence](https://leetcode.com/problems/longest-common-subsequence/)\n",
    "\n",
    "One of my more favorite types of problems, falling under largest square, we need to evaluate the series of characters in the subsequence towards the main array. \n",
    "\n",
    "We can start out by constructing a O(nm) matrix where **n** represents **text1** and **m** represents **text2**. The row, columns or ith row and jth column represents the characters between i and j in the main string. \n",
    "\n",
    "We'll compare each character starting from the first character in **text2**, to make it more simple we'll use the first example where:\n",
    "```\n",
    "text1 = 'abcde'\n",
    "text2 = 'ace'\n",
    "\n",
    "    a    b    c    d    e\n",
    "a   1\n",
    "c        0\n",
    "e             0\n",
    "```\n",
    "\n",
    "With our matrix setup where text1[j] == text2[i] is seen above and represented as 1 if they match else 0.\n",
    "\n",
    "Now if we were to continue, lets start at the first row where our subsequence only has the letter a to evaluate. In that case we'll iterate over the top and bring 1 across the entire way to validate that **a** had existed in the string. \n",
    "\n",
    "```\n",
    "text1 = 'abcde'\n",
    "text2 = 'ace'\n",
    "\n",
    "    a    b    c    d    e\n",
    "a   1    1    1    1    1\n",
    "c        0\n",
    "e             0\n",
    "```\n",
    "\n",
    "If we look now at our second row, **c** should now become 2 when we evaluate it as text1[j] == text2[i] == 'c'. \n",
    "\n",
    "So what can we make of the relation?\n",
    "\n",
    "We can say that:\n",
    "```\n",
    "if text1[j] == text2[i]:\n",
    "    dp[i][j] = 1 + dp[i - 1][j - 1]\n",
    "```\n",
    "\n",
    "Where the previous entry dp[i-1][j-1] which indicates letters before c or the string 'ab' had a max subsequence of ?, in this case 1.\n",
    "\n",
    "What about when we don't have a match? This one is another straight forward answer as we simply take from the row above and column prior the max. Why? Because we're saying at this point did we have a higher subsequence previously on the last row or are we the current maximum subsequence?\n",
    "\n",
    "![Longest-Common-Subsequence](./docs/dynamicprogramming/longest_common_subsequence.png)"
   ]
  },
  {
   "cell_type": "code",
   "execution_count": 18,
   "id": "27f788b6",
   "metadata": {},
   "outputs": [
    {
     "name": "stdout",
     "output_type": "stream",
     "text": [
      "The Longest Common Subsequence between abcde and ace is 3.\n"
     ]
    }
   ],
   "source": [
    "def longestCommonSubsequence(text1: str, text2: str) -> int:\n",
    "    n = len(text1)\n",
    "    m = len(text2)\n",
    "\n",
    "    dp = [[0 for _ in range(n + 1)] for _ in range(m + 1)]\n",
    "    for i in range(m):\n",
    "        for j in range(n):\n",
    "            if text1[j] == text2[i]:\n",
    "                dp[i + 1][j + 1] = dp[i][j] + 1\n",
    "            else:\n",
    "                dp[i + 1][j + 1] = max(dp[i + 1][j], dp[i][j + 1])\n",
    "    return dp[-1][-1]\n",
    "\n",
    "text1='abcde'\n",
    "text2='ace'\n",
    "print(f'The Longest Common Subsequence between {text1} and {text2} is {longestCommonSubsequence(text1, text2)}.')"
   ]
  },
  {
   "cell_type": "code",
   "execution_count": null,
   "id": "02e05517",
   "metadata": {},
   "outputs": [],
   "source": []
  }
 ],
 "metadata": {
  "kernelspec": {
   "display_name": "Python 3 (ipykernel)",
   "language": "python",
   "name": "python3"
  },
  "language_info": {
   "codemirror_mode": {
    "name": "ipython",
    "version": 3
   },
   "file_extension": ".py",
   "mimetype": "text/x-python",
   "name": "python",
   "nbconvert_exporter": "python",
   "pygments_lexer": "ipython3",
   "version": "3.9.7"
  }
 },
 "nbformat": 4,
 "nbformat_minor": 5
}
